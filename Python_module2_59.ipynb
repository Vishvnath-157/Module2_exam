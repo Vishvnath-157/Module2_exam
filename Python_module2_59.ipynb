{
  "nbformat": 4,
  "nbformat_minor": 0,
  "metadata": {
    "colab": {
      "name": "Pythonsolutions.ipynb",
      "provenance": [],
      "collapsed_sections": []
    },
    "kernelspec": {
      "name": "python3",
      "display_name": "Python 3"
    },
    "language_info": {
      "name": "python"
    }
  },
  "cells": [
    {
      "cell_type": "code",
      "execution_count": null,
      "metadata": {
        "id": "Xrj9ZHbhldm9"
      },
      "outputs": [],
      "source": [
        ""
      ]
    },
    {
      "cell_type": "markdown",
      "source": [
        "Q1.Convert given hrs & mins in second\n"
      ],
      "metadata": {
        "id": "gomRXa8ClnsT"
      }
    },
    {
      "cell_type": "code",
      "source": [
        "hrs=int(input(\"Enter Hour:\"))\n",
        "min=int(input(\"Enter minutes:\"))\n",
        "print(\"Total hour and mins is\",hrs,':',min)\n",
        "sec=((hrs*60)+min)*60\n",
        "print(\"Seconds are:\",sec)"
      ],
      "metadata": {
        "colab": {
          "base_uri": "https://localhost:8080/",
          "height": 0
        },
        "id": "f4vXEPHvlp9H",
        "outputId": "6e2a8605-23e8-4f97-fe77-33287e15a6ba"
      },
      "execution_count": 4,
      "outputs": [
        {
          "output_type": "stream",
          "name": "stdout",
          "text": [
            "Enter Hour:1\n",
            "Enter minutes:0\n",
            "Total hour and mins is 1 : 0\n",
            "Seconds are: 3600\n"
          ]
        }
      ]
    },
    {
      "cell_type": "markdown",
      "source": [
        "Q.2) Write code to find the average of ‘n’\n",
        "numbers entered by the user to function avg ( ).\n",
        "Ex: avg (10, 20, 30, 40) => average is: 70\n",
        "avg (5, 10, 15) => average is: 10"
      ],
      "metadata": {
        "id": "sAkcDFTwmqxH"
      }
    },
    {
      "cell_type": "code",
      "source": [
        "def avg(*num):\n",
        "  avg=sum(num)/len(num)\n",
        "  print(\"The average of numbers is \",avg)"
      ],
      "metadata": {
        "id": "SdiwuE11mQEU"
      },
      "execution_count": 10,
      "outputs": []
    },
    {
      "cell_type": "code",
      "source": [
        "avg(5,10,15)"
      ],
      "metadata": {
        "colab": {
          "base_uri": "https://localhost:8080/",
          "height": 0
        },
        "id": "xWxJ-q1p16fO",
        "outputId": "104bba24-9dac-44da-ab49-fea39ac2c663"
      },
      "execution_count": 88,
      "outputs": [
        {
          "output_type": "stream",
          "name": "stdout",
          "text": [
            "The average of numbers is  10.0\n"
          ]
        }
      ]
    },
    {
      "cell_type": "markdown",
      "source": [
        "Q3.Q.3) Print\n",
        "1\n",
        "0 1\n",
        "0 1 0\n",
        "1 0 1 0\n",
        "1 0 1 0 1\n"
      ],
      "metadata": {
        "id": "9kDTFd8pnmY0"
      }
    },
    {
      "cell_type": "code",
      "source": [
        "k=1\n",
        "for i in range(1,6):\n",
        "  for j in range(1,i+1):\n",
        "    if(k%2==1):\n",
        "      print(1,end=\" \")\n",
        "    else:\n",
        "      print(0,end=\" \")\n",
        "    k+=1\n",
        "  print()\n"
      ],
      "metadata": {
        "colab": {
          "base_uri": "https://localhost:8080/",
          "height": 0
        },
        "id": "ScdvxFWv11X_",
        "outputId": "189f5743-d32d-4023-e01c-0e2408136aba"
      },
      "execution_count": 87,
      "outputs": [
        {
          "output_type": "stream",
          "name": "stdout",
          "text": [
            "1 \n",
            "0 1 \n",
            "0 1 0 \n",
            "1 0 1 0 \n",
            "1 0 1 0 1 \n"
          ]
        }
      ]
    },
    {
      "cell_type": "markdown",
      "source": [
        "Q.5) Create class Math class\n"
      ],
      "metadata": {
        "id": "XVIgiz4xnn05"
      }
    },
    {
      "cell_type": "code",
      "source": [
        "class math:\n",
        "  def __init__(self):\n",
        "    self.a=int(input(\"Enter a number\"))\n",
        "    self.b=int(input(\"Enter a number\"))\n",
        "  def add(self):\n",
        "    \n",
        "    \n",
        "    return (self.a+self.b)\n",
        "  def div(self):\n",
        "    \n",
        "    return (self.a/self.b)\n",
        "  def sub(self):\n",
        "    \n",
        "    return self.a-self.b\n",
        "  def mul(self):\n",
        "    \n",
        "    return self.a*self.b\n",
        "  "
      ],
      "metadata": {
        "id": "1tltu0lGm5lb"
      },
      "execution_count": 97,
      "outputs": []
    },
    {
      "cell_type": "code",
      "source": [
        "m=math()\n",
        "m.mul()\n",
        "\n"
      ],
      "metadata": {
        "colab": {
          "base_uri": "https://localhost:8080/"
        },
        "id": "UGf2rDa-odCF",
        "outputId": "1308a595-5878-427f-9b2c-85a4f06f6135"
      },
      "execution_count": 100,
      "outputs": [
        {
          "name": "stdout",
          "output_type": "stream",
          "text": [
            "Enter a number5\n",
            "Enter a number5\n"
          ]
        },
        {
          "output_type": "execute_result",
          "data": {
            "text/plain": [
              "25"
            ]
          },
          "metadata": {},
          "execution_count": 100
        }
      ]
    },
    {
      "cell_type": "markdown",
      "source": [
        "Q7. Convert Paise in Rupees &\n",
        "Paises\n",
        "Ex: 350 is 3 Rupees 50 Paise\n",
        "3.50 print Rupees: 3\n",
        "Paise: 50"
      ],
      "metadata": {
        "id": "433k8sJ4p4ou"
      }
    },
    {
      "cell_type": "code",
      "source": [
        "paise=int(input(\"Enter the paise:\"))\n",
        "rupee=paise//100\n",
        "pa=paise%100\n",
        "print(\"After converting the value is\",rupee,'Rupees',pa,'Paise')\n",
        "print('Rupees:',rupee,'Paise:',pa,)"
      ],
      "metadata": {
        "colab": {
          "base_uri": "https://localhost:8080/",
          "height": 0
        },
        "id": "fYODlHfpojUX",
        "outputId": "5f5a0fcc-d589-4984-c155-58ec780c91e1"
      },
      "execution_count": 30,
      "outputs": [
        {
          "output_type": "stream",
          "name": "stdout",
          "text": [
            "Enter the paise:350\n",
            "After converting the value is 3 Rupees 50 Paise\n",
            "Rupees: 3 Paise: 50\n"
          ]
        }
      ]
    },
    {
      "cell_type": "markdown",
      "source": [
        "Q.9) Accept String & print only alternate\n",
        "characters on a string.\n",
        "Ex: this i s a _ test"
      ],
      "metadata": {
        "id": "rB_VHoC-rP9h"
      }
    },
    {
      "cell_type": "code",
      "source": [
        "string=input(\"Enter a String:\")\n",
        "mod_string=string[::2]\n",
        "print(mod_string)\n",
        "  "
      ],
      "metadata": {
        "colab": {
          "base_uri": "https://localhost:8080/",
          "height": 0
        },
        "id": "1GjO88E1sSAG",
        "outputId": "81b3152e-451a-4db7-facc-d1bcdfb07dd6"
      },
      "execution_count": 94,
      "outputs": [
        {
          "output_type": "stream",
          "name": "stdout",
          "text": [
            "Enter a String:My Name is Vishvnath\n",
            "M aei ihnt\n"
          ]
        }
      ]
    },
    {
      "cell_type": "markdown",
      "source": [
        ""
      ],
      "metadata": {
        "id": "rT24TRD21s1_"
      }
    },
    {
      "cell_type": "code",
      "source": [
        ""
      ],
      "metadata": {
        "id": "7RxIl54hsfQ9"
      },
      "execution_count": 78,
      "outputs": []
    },
    {
      "cell_type": "code",
      "source": [
        ""
      ],
      "metadata": {
        "id": "bVabGFvOxdeB"
      },
      "execution_count": null,
      "outputs": []
    },
    {
      "cell_type": "code",
      "source": [
        ""
      ],
      "metadata": {
        "id": "OT0gHSuOxr_d"
      },
      "execution_count": null,
      "outputs": []
    }
  ]
}